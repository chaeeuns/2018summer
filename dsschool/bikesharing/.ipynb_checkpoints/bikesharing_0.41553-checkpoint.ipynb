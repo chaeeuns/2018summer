{
 "cells": [
  {
   "cell_type": "code",
   "execution_count": null,
   "metadata": {},
   "outputs": [],
   "source": [
    "import pandas as pd\n",
    "import numpy as np"
   ]
  },
  {
   "cell_type": "markdown",
   "metadata": {},
   "source": [
    "# Loda Dataset"
   ]
  },
  {
   "cell_type": "code",
   "execution_count": null,
   "metadata": {},
   "outputs": [],
   "source": [
    "train = pd.read_csv(\"data/train.csv\", parse_dates=[\"datetime\"])\n",
    "print(train.shape)\n",
    "train.head()"
   ]
  },
  {
   "cell_type": "code",
   "execution_count": null,
   "metadata": {},
   "outputs": [],
   "source": [
    "test = pd.read_csv(\"data/test.csv\", parse_dates=[\"datetime\"])\n",
    "print(test.shape)\n",
    "test.head()"
   ]
  },
  {
   "cell_type": "markdown",
   "metadata": {},
   "source": [
    "# Encode datetime"
   ]
  },
  {
   "cell_type": "code",
   "execution_count": null,
   "metadata": {},
   "outputs": [],
   "source": [
    "train[\"year\"]=train[\"datetime\"].dt.year\n",
    "train[\"month\"]=train[\"datetime\"].dt.month\n",
    "train[\"day\"]=train[\"datetime\"].dt.day\n",
    "train[\"hour\"]=train[\"datetime\"].dt.hour\n",
    "train[\"minute\"]=train[\"datetime\"].dt.minute\n",
    "train[\"second\"]=train[\"datetime\"].dt.second"
   ]
  },
  {
   "cell_type": "code",
   "execution_count": null,
   "metadata": {},
   "outputs": [],
   "source": [
    "print(train.shape)\n",
    "train.head()"
   ]
  },
  {
   "cell_type": "code",
   "execution_count": null,
   "metadata": {},
   "outputs": [],
   "source": [
    "test[\"year\"]=test[\"datetime\"].dt.year\n",
    "test[\"month\"]=test[\"datetime\"].dt.month\n",
    "test[\"day\"]=test[\"datetime\"].dt.day\n",
    "test[\"hour\"]=test[\"datetime\"].dt.hour\n",
    "test[\"minute\"]=test[\"datetime\"].dt.minute\n",
    "test[\"second\"]=test[\"datetime\"].dt.second"
   ]
  },
  {
   "cell_type": "code",
   "execution_count": null,
   "metadata": {},
   "outputs": [],
   "source": [
    "print(test.shape)\n",
    "test.head()"
   ]
  },
  {
   "cell_type": "markdown",
   "metadata": {},
   "source": [
    "# Encode season"
   ]
  },
  {
   "cell_type": "code",
   "execution_count": null,
   "metadata": {},
   "outputs": [],
   "source": [
    "train[\"spring\"] = train[\"season\"] == 1\n",
    "train[\"summer\"] = train[\"season\"] == 2\n",
    "train[\"fall\"] = train[\"season\"] == 3\n",
    "train[\"winter\"] = train[\"season\"] == 4\n",
    "\n",
    "print(train.shape)\n",
    "train[[\"season\",\"spring\",\"summer\",\"fall\",\"winter\"]]"
   ]
  },
  {
   "cell_type": "code",
   "execution_count": null,
   "metadata": {},
   "outputs": [],
   "source": [
    "test[\"spring\"] = test[\"season\"] == 1\n",
    "test[\"summer\"] = test[\"season\"] == 2\n",
    "test[\"fall\"] = test[\"season\"] == 3\n",
    "test[\"winter\"] = test[\"season\"] == 4\n",
    "\n",
    "print(test.shape)\n",
    "test[[\"season\",\"spring\",\"summer\",\"fall\",\"winter\"]]"
   ]
  },
  {
   "cell_type": "markdown",
   "metadata": {},
   "source": [
    "# Encode weather"
   ]
  },
  {
   "cell_type": "code",
   "execution_count": null,
   "metadata": {},
   "outputs": [],
   "source": [
    "train[\"clear\"] = train[\"weather\"] == 1\n",
    "train[\"cloudy\"] = train[\"weather\"] == 2\n",
    "train[\"snow\"] = train[\"weather\"] == 3\n",
    "train[\"heavysnow\"] = train[\"weather\"] == 4\n",
    "\n",
    "print(train.shape)\n",
    "train[[\"weather\",\"clear\",\"cloudy\",\"snow\",\"heavysnow\"]]"
   ]
  },
  {
   "cell_type": "code",
   "execution_count": null,
   "metadata": {},
   "outputs": [],
   "source": [
    "test[\"clear\"] = test[\"weather\"] == 1\n",
    "test[\"cloudy\"] = test[\"weather\"] == 2\n",
    "test[\"snow\"] = test[\"weather\"] == 3\n",
    "test[\"heavysnow\"] = test[\"weather\"] == 4\n",
    "\n",
    "print(test.shape)\n",
    "test[[\"weather\",\"clear\",\"cloudy\",\"snow\",\"heavysnow\"]]"
   ]
  },
  {
   "cell_type": "markdown",
   "metadata": {},
   "source": [
    "# Encode windspeed - train"
   ]
  },
  {
   "cell_type": "code",
   "execution_count": null,
   "metadata": {},
   "outputs": [],
   "source": [
    "# windspeed 가 0이 아닌 거 train -> 0인 거 predict"
   ]
  },
  {
   "cell_type": "code",
   "execution_count": null,
   "metadata": {},
   "outputs": [],
   "source": [
    "train.head()"
   ]
  },
  {
   "cell_type": "code",
   "execution_count": null,
   "metadata": {},
   "outputs": [],
   "source": [
    "feature_names = [\"holiday\",\"workingday\",\"temp\",\"atemp\",\"humidity\",\"casual\",\"registered\",\"count\",\"year\",\"month\",\"day\",\n",
    "               \"hour\",\"minute\",\"second\",\"spring\",\"summer\",\"fall\",\"winter\",\"clear\",\"cloudy\",\"snow\",\"heavysnow\"]\n",
    "lable_name = \"windspeed\""
   ]
  },
  {
   "cell_type": "code",
   "execution_count": null,
   "metadata": {},
   "outputs": [],
   "source": [
    "x_train = train.loc[train[\"windspeed\"]!=0 , feature_names]\n",
    "x_test = train.loc[train[\"windspeed\"]==0 , feature_names]\n",
    "print(x_train.shape)\n",
    "print(x_test.shape)"
   ]
  },
  {
   "cell_type": "code",
   "execution_count": null,
   "metadata": {},
   "outputs": [],
   "source": [
    "y_train = train.loc[train[\"windspeed\"]!=0,lable_name]"
   ]
  },
  {
   "cell_type": "code",
   "execution_count": null,
   "metadata": {},
   "outputs": [],
   "source": [
    "#use decision tree\n",
    "from sklearn.ensemble import RandomForestRegressor\n",
    "model = RandomForestRegressor(random_state=7)\n",
    "model"
   ]
  },
  {
   "cell_type": "code",
   "execution_count": null,
   "metadata": {},
   "outputs": [],
   "source": [
    "model.fit(x_train,y_train)"
   ]
  },
  {
   "cell_type": "code",
   "execution_count": null,
   "metadata": {},
   "outputs": [],
   "source": [
    "predictions = model.predict(x_test)"
   ]
  },
  {
   "cell_type": "code",
   "execution_count": null,
   "metadata": {},
   "outputs": [],
   "source": [
    "train.loc[train[\"windspeed\"] == 0,\"windspeed\"] = predictions"
   ]
  },
  {
   "cell_type": "code",
   "execution_count": null,
   "metadata": {},
   "outputs": [],
   "source": [
    "train[\"windspeed\"].head()"
   ]
  },
  {
   "cell_type": "markdown",
   "metadata": {},
   "source": [
    "# Encode windspeed - test"
   ]
  },
  {
   "cell_type": "code",
   "execution_count": null,
   "metadata": {},
   "outputs": [],
   "source": [
    "feature_names = [\"holiday\",\"workingday\",\"temp\",\"atemp\",\"humidity\",\"year\",\"month\",\"day\",\n",
    "               \"hour\",\"minute\",\"second\",\"spring\",\"summer\",\"fall\",\"winter\",\"clear\",\"cloudy\",\"snow\",\"heavysnow\"]\n",
    "lable_name = \"windspeed\""
   ]
  },
  {
   "cell_type": "code",
   "execution_count": null,
   "metadata": {},
   "outputs": [],
   "source": [
    "x_train = test.loc[test[\"windspeed\"]!=0 , feature_names]\n",
    "x_test = test.loc[test[\"windspeed\"]==0 , feature_names]\n",
    "y_train = test.loc[test[\"windspeed\"]!=0 , lable_name]\n",
    "print(x_train.shape)\n",
    "print(x_test.shape)\n",
    "print(y_train.shape)"
   ]
  },
  {
   "cell_type": "code",
   "execution_count": null,
   "metadata": {},
   "outputs": [],
   "source": [
    "#use decision tree\n",
    "from sklearn.ensemble import RandomForestRegressor\n",
    "model = RandomForestRegressor(random_state=42)\n",
    "model"
   ]
  },
  {
   "cell_type": "code",
   "execution_count": null,
   "metadata": {},
   "outputs": [],
   "source": [
    "model.fit(x_train, y_train)"
   ]
  },
  {
   "cell_type": "code",
   "execution_count": null,
   "metadata": {},
   "outputs": [],
   "source": [
    "predictions = model.predict(x_test)"
   ]
  },
  {
   "cell_type": "code",
   "execution_count": null,
   "metadata": {},
   "outputs": [],
   "source": [
    "test.loc[test[\"windspeed\"] == 0, lable_name] = predictions"
   ]
  },
  {
   "cell_type": "markdown",
   "metadata": {},
   "source": [
    "# Train"
   ]
  },
  {
   "cell_type": "code",
   "execution_count": null,
   "metadata": {},
   "outputs": [],
   "source": [
    "train.head()"
   ]
  },
  {
   "cell_type": "code",
   "execution_count": null,
   "metadata": {},
   "outputs": [],
   "source": [
    "# casual 과 registered 따로 predict 하기 "
   ]
  },
  {
   "cell_type": "code",
   "execution_count": null,
   "metadata": {},
   "outputs": [],
   "source": [
    "feature_names = [\"holiday\",\"workingday\",\"temp\",\"atemp\",\"humidity\",\"windspeed\",\"year\",\"month\",\"day\",\"hour\",\n",
    "                \"minute\",\"second\",\"spring\",\"summer\",\"fall\",\"winter\",\"clear\",\"cloudy\",\"snow\",\"heavysnow\"]\n",
    "lable_name = \"casual\""
   ]
  },
  {
   "cell_type": "code",
   "execution_count": null,
   "metadata": {},
   "outputs": [],
   "source": [
    "x_train = train[feature_names]\n",
    "x_test = test[feature_names]\n",
    "y_train = train[lable_name]"
   ]
  },
  {
   "cell_type": "code",
   "execution_count": null,
   "metadata": {},
   "outputs": [],
   "source": [
    "model.fit(x_train,y_train)"
   ]
  },
  {
   "cell_type": "code",
   "execution_count": null,
   "metadata": {},
   "outputs": [],
   "source": [
    "predictions = model.predict(x_test)\n",
    "print(predictions.shape)\n",
    "predictions"
   ]
  },
  {
   "cell_type": "code",
   "execution_count": null,
   "metadata": {},
   "outputs": [],
   "source": [
    "test[\"casual\"] = predictions"
   ]
  },
  {
   "cell_type": "code",
   "execution_count": null,
   "metadata": {},
   "outputs": [],
   "source": [
    "lable_name = \"registered\""
   ]
  },
  {
   "cell_type": "code",
   "execution_count": null,
   "metadata": {},
   "outputs": [],
   "source": [
    "x_train = train[feature_names]\n",
    "x_test = test[feature_names]\n",
    "y_train = train[lable_name]"
   ]
  },
  {
   "cell_type": "code",
   "execution_count": null,
   "metadata": {},
   "outputs": [],
   "source": [
    "model.fit(x_train,y_train)"
   ]
  },
  {
   "cell_type": "code",
   "execution_count": null,
   "metadata": {},
   "outputs": [],
   "source": [
    "predictions = model.predict(x_test)\n",
    "print(predictions.shape)\n",
    "predictions"
   ]
  },
  {
   "cell_type": "code",
   "execution_count": null,
   "metadata": {},
   "outputs": [],
   "source": [
    "test[\"registered\"] = predictions"
   ]
  },
  {
   "cell_type": "code",
   "execution_count": null,
   "metadata": {},
   "outputs": [],
   "source": [
    "test[[\"casual\",\"registered\"]].head()"
   ]
  },
  {
   "cell_type": "code",
   "execution_count": null,
   "metadata": {},
   "outputs": [],
   "source": [
    "test[\"count\"] = test[\"casual\"] + test[\"registered\"]"
   ]
  },
  {
   "cell_type": "code",
   "execution_count": null,
   "metadata": {},
   "outputs": [],
   "source": [
    "test[\"count\"].head()"
   ]
  },
  {
   "cell_type": "markdown",
   "metadata": {},
   "source": [
    "# Submit"
   ]
  },
  {
   "cell_type": "code",
   "execution_count": null,
   "metadata": {},
   "outputs": [],
   "source": [
    "submission = pd.read_csv(\"data/sampleSubmission.csv\")\n",
    "submission[\"count\"] = test[\"count\"]\n",
    "\n",
    "print(submission.shape)\n",
    "submission.head()"
   ]
  },
  {
   "cell_type": "code",
   "execution_count": null,
   "metadata": {},
   "outputs": [],
   "source": [
    "submission.to_csv(\"data/baseline-script.csv\", index = False)"
   ]
  },
  {
   "cell_type": "code",
   "execution_count": null,
   "metadata": {},
   "outputs": [],
   "source": []
  },
  {
   "cell_type": "code",
   "execution_count": null,
   "metadata": {},
   "outputs": [],
   "source": []
  }
 ],
 "metadata": {
  "kernelspec": {
   "display_name": "Python 3",
   "language": "python",
   "name": "python3"
  },
  "language_info": {
   "codemirror_mode": {
    "name": "ipython",
    "version": 3
   },
   "file_extension": ".py",
   "mimetype": "text/x-python",
   "name": "python",
   "nbconvert_exporter": "python",
   "pygments_lexer": "ipython3",
   "version": "3.6.5"
  }
 },
 "nbformat": 4,
 "nbformat_minor": 2
}
